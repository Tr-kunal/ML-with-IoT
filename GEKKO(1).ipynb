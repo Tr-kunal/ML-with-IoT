{
  "nbformat": 4,
  "nbformat_minor": 0,
  "metadata": {
    "colab": {
      "private_outputs": true,
      "provenance": []
    },
    "kernelspec": {
      "name": "python3",
      "display_name": "Python 3"
    },
    "language_info": {
      "name": "python"
    }
  },
  "cells": [
    {
      "cell_type": "code",
      "source": [
        "pip install gekko"
      ],
      "metadata": {
        "id": "Xq0FDC8V5Nx6"
      },
      "execution_count": null,
      "outputs": []
    },
    {
      "cell_type": "code",
      "execution_count": null,
      "metadata": {
        "id": "EaibAn8Y5C7I"
      },
      "outputs": [],
      "source": [
        "from gekko import GEKKO\n",
        "import numpy as np\n",
        "import matplotlib.pyplot as plt"
      ]
    },
    {
      "cell_type": "code",
      "source": [
        "# Sample data points\n",
        "x_data = [0, 1, 2, 3, 4]\n",
        "y_data = [0, 1, 0, 1, 0]"
      ],
      "metadata": {
        "id": "uY6pzlFY5JW7"
      },
      "execution_count": null,
      "outputs": []
    },
    {
      "cell_type": "code",
      "source": [
        "# Points to interpolate\n",
        "x_vals = np.linspace(0, 4, 100)\n",
        "y_interp = []"
      ],
      "metadata": {
        "id": "WqVi3xYy5T32"
      },
      "execution_count": null,
      "outputs": []
    },
    {
      "cell_type": "code",
      "source": [
        "# Loop over each point\n",
        "for xv in x_vals:\n",
        "    m = GEKKO()\n",
        "    x = m.Param(value=xv)  # Single scalar value\n",
        "    y = m.Var()\n",
        "\n",
        "    m.cspline(x, y, x_data, y_data)\n",
        "\n",
        "    m.options.IMODE = 2  # Tell GEKKO we want a one-time calculation, not a dynamic system\n",
        "    m.solve(disp=False)\n",
        "\n",
        "    y_interp.append(y.value[0])"
      ],
      "metadata": {
        "id": "n5Kz8boN6p8i"
      },
      "execution_count": null,
      "outputs": []
    },
    {
      "cell_type": "code",
      "source": [
        "# Plotting\n",
        "plt.plot(x_vals, y_interp, label='Cubic Spline')\n",
        "plt.scatter(x_data, y_data, color='red', label='Data Points')\n",
        "plt.xlabel('x')\n",
        "plt.ylabel('y')\n",
        "plt.title('Cubic Spline Interpolation with GEKKO (Loop Method)')\n",
        "plt.legend()\n",
        "plt.grid(True)\n",
        "plt.show()"
      ],
      "metadata": {
        "id": "8q2BKPiK6soP"
      },
      "execution_count": null,
      "outputs": []
    }
  ]
}
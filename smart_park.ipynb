{
 "cells": [
  {
   "cell_type": "markdown",
   "metadata": {},
   "source": [
    "Components\n",
    "\n",
    "1.Hardware:\n",
    "\n",
    "Ultrasonic sensor (e.g., HC-SR04) to detect car presence.\n",
    "ESP8266/Arduino for processing and communication.\n",
    "LEDs or buzzer for indicating parking spot status.\n",
    "\n",
    "2.Software:\n",
    "\n",
    "Arduino IDE for sensor programming.\n",
    "Python for data collection and ML.\n",
    "Libraries: pandas, scikit-learn, matplotlib.\n",
    "\n",
    "\n",
    "Hardware Setup\n",
    "\n",
    "Connection of HC-SR04 Sensor\n",
    "VCC → 5V on ESP8266/Arduino.\n",
    "GND → Ground.\n",
    "TRIG → Digital pin D4.\n",
    "ECHO → Digital pin D5.\n",
    "\n",
    "\n",
    "\n",
    "Arduino Code:\n",
    "\n",
    "The Arduino code reads parking availability using the ultrasonic sensor."
   ]
  },
  {
   "cell_type": "code",
   "execution_count": null,
   "metadata": {
    "vscode": {
     "languageId": "plaintext"
    }
   },
   "outputs": [],
   "source": [
    "#define TRIG_PIN D4\n",
    "#define ECHO_PIN D5\n",
    "\n",
    "void setup() {\n",
    "  Serial.begin(9600);\n",
    "  pinMode(TRIG_PIN, OUTPUT);\n",
    "  pinMode(ECHO_PIN, INPUT);\n",
    "}\n",
    "\n",
    "void loop() {\n",
    "  digitalWrite(TRIG_PIN, LOW);\n",
    "  delayMicroseconds(2);\n",
    "  digitalWrite(TRIG_PIN, HIGH);\n",
    "  delayMicroseconds(10);\n",
    "  digitalWrite(TRIG_PIN, LOW);\n",
    "\n",
    "  long duration = pulseIn(ECHO_PIN, HIGH);\n",
    "  float distance = (duration * 0.034) / 2;  // Convert to cm\n",
    "\n",
    "  // If distance is less than 10 cm, parking spot is occupied\n",
    "  if (distance < 10) {\n",
    "    Serial.println(\"Occupied\");\n",
    "  } else {\n",
    "    Serial.println(\"Available\");\n",
    "  }\n",
    "\n",
    "  delay(1000);  // Check every second\n",
    "}\n"
   ]
  },
  {
   "cell_type": "markdown",
   "metadata": {},
   "source": [
    "5. Collecting Data\n",
    "Python Script for Data Collection\n",
    "The Arduino sends data (e.g., \"Occupied\" or \"Available\") via serial communication. Use Python to collect and save it for analysis."
   ]
  },
  {
   "cell_type": "code",
   "execution_count": null,
   "metadata": {
    "vscode": {
     "languageId": "plaintext"
    }
   },
   "outputs": [],
   "source": [
    "#Install Required Libraries\n",
    "pip install pyserial pandas\n"
   ]
  },
  {
   "cell_type": "code",
   "execution_count": null,
   "metadata": {
    "vscode": {
     "languageId": "plaintext"
    }
   },
   "outputs": [],
   "source": [
    "import serial\n",
    "import pandas as pd\n",
    "import time\n",
    "\n",
    "# Configure serial port\n",
    "serial_port = '/dev/ttyUSB0'  # Replace with your port (COM3 for Windows)\n",
    "baud_rate = 9600\n",
    "arduino = serial.Serial(serial_port, baud_rate)\n",
    "\n",
    "# Data collection variables\n",
    "data = []\n",
    "start_time = time.time()\n",
    "\n",
    "print(\"Collecting parking data... Press Ctrl+C to stop.\")\n",
    "\n",
    "try:\n",
    "    while True:\n",
    "        if arduino.in_waiting > 0:\n",
    "            status = arduino.readline().decode('utf-8').strip()\n",
    "            timestamp = time.time() - start_time\n",
    "            print(f\"Time: {timestamp:.2f}s, Status: {status}\")\n",
    "            data.append({\"Time (s)\": timestamp, \"Status\": status})\n",
    "except KeyboardInterrupt:\n",
    "    print(\"Data collection stopped.\")\n",
    "\n",
    "# Save the data\n",
    "df = pd.DataFrame(data)\n",
    "df.to_csv(\"parking_data.csv\", index=False)\n",
    "print(\"Data saved to parking_data.csv\")\n"
   ]
  },
  {
   "cell_type": "markdown",
   "metadata": {},
   "source": [
    "6. Training the ML Model\n",
    "Use the collected data to train a model predicting parking availability trends.\n",
    "\n",
    "Python Code for ML\n",
    "Install Libraries"
   ]
  },
  {
   "cell_type": "code",
   "execution_count": null,
   "metadata": {
    "vscode": {
     "languageId": "plaintext"
    }
   },
   "outputs": [],
   "source": [
    "pip install scikit-learn matplotlib\n"
   ]
  },
  {
   "cell_type": "code",
   "execution_count": null,
   "metadata": {
    "vscode": {
     "languageId": "plaintext"
    }
   },
   "outputs": [],
   "source": [
    "import pandas as pd\n",
    "from sklearn.model_selection import train_test_split\n",
    "from sklearn.ensemble import RandomForestClassifier\n",
    "import matplotlib.pyplot as plt\n",
    "\n",
    "# Load collected data\n",
    "data = pd.read_csv(\"parking_data.csv\")\n",
    "\n",
    "# Prepare data for ML\n",
    "data['Status'] = data['Status'].map({'Available': 0, 'Occupied': 1})  # Convert to binary\n",
    "data['Time (min)'] = data['Time (s)'] // 60  # Group data into minutes\n",
    "X = data[['Time (min)']]\n",
    "y = data['Status']\n",
    "\n",
    "# Train-test split\n",
    "X_train, X_test, y_train, y_test = train_test_split(X, y, test_size=0.2, random_state=42)\n",
    "\n",
    "# Train the model\n",
    "model = RandomForestClassifier()\n",
    "model.fit(X_train, y_train)\n",
    "\n",
    "# Predict availability\n",
    "future_time = [[10], [20], [30]]  # Predict for 10, 20, and 30 minutes\n",
    "predictions = model.predict(future_time)\n",
    "\n",
    "print(\"Predictions:\")\n",
    "for time, status in zip(future_time, predictions):\n",
    "    status_text = \"Available\" if status == 0 else \"Occupied\"\n",
    "    print(f\"Time: {time[0]} minutes, Status: {status_text}\")\n",
    "\n",
    "# Visualize trends\n",
    "plt.scatter(X, y, color='blue', label='Actual Data')\n",
    "plt.plot(future_time, predictions, color='red', label='Predictions')\n",
    "plt.xlabel('Time (min)')\n",
    "plt.ylabel('Status (0 = Available, 1 = Occupied)')\n",
    "plt.title('Parking Spot Prediction')\n",
    "plt.legend()\n",
    "plt.show()\n"
   ]
  },
  {
   "cell_type": "markdown",
   "metadata": {},
   "source": [
    "7. Deployment\n",
    "Real-Time Prediction\n",
    "Integrate real-time data collection with predictions for live insights.\n",
    "\n",
    "Example Prediction Code"
   ]
  },
  {
   "cell_type": "code",
   "execution_count": null,
   "metadata": {
    "vscode": {
     "languageId": "plaintext"
    }
   },
   "outputs": [],
   "source": [
    "import joblib  # Save and load models\n",
    "\n",
    "# Save the model\n",
    "joblib.dump(model, 'parking_predictor.pkl')\n",
    "\n",
    "# Load the model\n",
    "model = joblib.load('parking_predictor.pkl')\n",
    "\n",
    "# Real-time prediction\n",
    "current_time = [[15]]  # Replace with real-time input (minutes)\n",
    "prediction = model.predict(current_time)\n",
    "status = \"Available\" if prediction[0] == 0 else \"Occupied\"\n",
    "print(f\"Current Parking Status: {status}\")\n"
   ]
  },
  {
   "cell_type": "markdown",
   "metadata": {},
   "source": [
    "8. How It Works\n",
    "Hardware: Sensors detect parking availability.\n",
    "Data Collection: Real-time data is logged.\n",
    "ML Model: Predicts future parking availability based on trends.\n",
    "Deployment: Use the model for live predictions and alert systems."
   ]
  }
 ],
 "metadata": {
  "language_info": {
   "name": "python"
  }
 },
 "nbformat": 4,
 "nbformat_minor": 2
}

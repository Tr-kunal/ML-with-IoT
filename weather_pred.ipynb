{
 "cells": [
  {
   "cell_type": "markdown",
   "metadata": {},
   "source": [
    "This project will use an Arduino/Raspberry Pi with a DHT11 sensor to collect weather data (temperature and humidity) and then train a regression model to predict future patterns based on the collected data.\n",
    "\n",
    "Part 1: Setting Up the IoT Device\n",
    "Components Needed:\n",
    "Raspberry Pi (recommended) or Arduino\n",
    "DHT11 Sensor (or DHT22 for more accuracy)\n",
    "Jumper Wires\n",
    "Breadboard\n",
    "Step 1: Connect the DHT11 Sensor\n",
    "The DHT11 sensor has three pins:\n",
    "\n",
    "VCC: Connect to 5V (3.3V on Raspberry Pi)\n",
    "GND: Connect to Ground (GND)\n",
    "DATA: Connect to a GPIO pin (e.g., GPIO4 on Raspberry Pi)\n",
    "\n",
    "Step 2: Install Required Libraries on Raspberry Pi\n",
    "If you're using a Raspberry Pi, start by enabling I2C and installing the required libraries:"
   ]
  },
  {
   "cell_type": "code",
   "execution_count": null,
   "metadata": {
    "vscode": {
     "languageId": "plaintext"
    }
   },
   "outputs": [],
   "source": [
    "sudo apt-get update\n",
    "sudo apt-get install python3-pip\n",
    "pip3 install Adafruit_DHT\n"
   ]
  },
  {
   "cell_type": "markdown",
   "metadata": {},
   "source": [
    "Step 3: Write Code to Collect Data\n",
    "Here’s a Python script that reads temperature and humidity data from the DHT11 sensor:"
   ]
  },
  {
   "cell_type": "code",
   "execution_count": null,
   "metadata": {
    "vscode": {
     "languageId": "plaintext"
    }
   },
   "outputs": [],
   "source": [
    "import Adafruit_DHT\n",
    "import time\n",
    "import csv\n",
    "\n",
    "# Sensor type and GPIO pin\n",
    "DHT_SENSOR = Adafruit_DHT.DHT11\n",
    "DHT_PIN = 4  # Replace with the GPIO pin you used for DATA\n",
    "\n",
    "# File to save data\n",
    "filename = \"weather_data.csv\"\n",
    "\n",
    "# Open the file in write mode\n",
    "with open(filename, mode='w', newline='') as file:\n",
    "    writer = csv.writer(file)\n",
    "    writer.writerow([\"Timestamp\", \"Temperature (C)\", \"Humidity (%)\"])\n",
    "\n",
    "    # Collect data for a set period (e.g., 1 hour, every 5 seconds)\n",
    "    for i in range(720):  # Collect data 720 times (for 1 hour at 5-second intervals)\n",
    "        humidity, temperature = Adafruit_DHT.read(DHT_SENSOR, DHT_PIN)\n",
    "        \n",
    "        if humidity is not None and temperature is not None:\n",
    "            timestamp = time.strftime(\"%Y-%m-%d %H:%M:%S\")\n",
    "            print(f\"Time: {timestamp} Temp: {temperature}C Humidity: {humidity}%\")\n",
    "            \n",
    "            # Write data to CSV\n",
    "            writer.writerow([timestamp, temperature, humidity])\n",
    "        \n",
    "        time.sleep(5)  # Wait for 5 seconds before next reading\n"
   ]
  },
  {
   "cell_type": "markdown",
   "metadata": {},
   "source": [
    "This script will create a file named weather_data.csv and log temperature and humidity data every 5 seconds for an hour.\n",
    "\n",
    "Part 2: Building the Prediction Model\n",
    "Now that you have collected data, let's use Python and a basic ML library, scikit-learn, to train a regression model.\n",
    "\n",
    "Step 1: Install Libraries"
   ]
  },
  {
   "cell_type": "code",
   "execution_count": null,
   "metadata": {
    "vscode": {
     "languageId": "plaintext"
    }
   },
   "outputs": [],
   "source": [
    "pip3 install pandas scikit-learn matplotlib\n"
   ]
  },
  {
   "cell_type": "markdown",
   "metadata": {},
   "source": [
    "Step 2: Write Code to Train the Model\n",
    "Here’s a Python script that reads the data from weather_data.csv, trains a linear regression model, and predicts future weather values."
   ]
  },
  {
   "cell_type": "code",
   "execution_count": null,
   "metadata": {
    "vscode": {
     "languageId": "plaintext"
    }
   },
   "outputs": [],
   "source": [
    "import pandas as pd\n",
    "from sklearn.model_selection import train_test_split\n",
    "from sklearn.linear_model import LinearRegression\n",
    "import matplotlib.pyplot as plt\n",
    "\n",
    "# Load the data\n",
    "data = pd.read_csv(\"weather_data.csv\")\n",
    "\n",
    "# Data preprocessing (convert timestamps to sequential numbers)\n",
    "data['Timestamp'] = range(len(data))  # Basic indexing for simplicity\n",
    "X = data[['Timestamp']]\n",
    "y_temp = data['Temperature (C)']\n",
    "y_humidity = data['Humidity (%)']\n",
    "\n",
    "# Train-test split\n",
    "X_train, X_test, y_temp_train, y_temp_test = train_test_split(X, y_temp, test_size=0.2, random_state=0)\n",
    "X_train, X_test, y_humidity_train, y_humidity_test = train_test_split(X, y_humidity, test_size=0.2, random_state=0)\n",
    "\n",
    "# Train the model\n",
    "temp_model = LinearRegression()\n",
    "humidity_model = LinearRegression()\n",
    "temp_model.fit(X_train, y_temp_train)\n",
    "humidity_model.fit(X_train, y_humidity_train)\n",
    "\n",
    "# Predict the test set\n",
    "temp_predictions = temp_model.predict(X_test)\n",
    "humidity_predictions = humidity_model.predict(X_test)\n",
    "\n",
    "# Plot results\n",
    "plt.figure(figsize=(10, 5))\n",
    "\n",
    "# Temperature plot\n",
    "plt.subplot(1, 2, 1)\n",
    "plt.scatter(X_test, y_temp_test, color='blue', label='Actual')\n",
    "plt.plot(X_test, temp_predictions, color='red', label='Predicted')\n",
    "plt.xlabel(\"Time\")\n",
    "plt.ylabel(\"Temperature (C)\")\n",
    "plt.title(\"Temperature Prediction\")\n",
    "plt.legend()\n",
    "\n",
    "# Humidity plot\n",
    "plt.subplot(1, 2, 2)\n",
    "plt.scatter(X_test, y_humidity_test, color='blue', label='Actual')\n",
    "plt.plot(X_test, humidity_predictions, color='green', label='Predicted')\n",
    "plt.xlabel(\"Time\")\n",
    "plt.ylabel(\"Humidity (%)\")\n",
    "plt.title(\"Humidity Prediction\")\n",
    "plt.legend()\n",
    "\n",
    "plt.tight_layout()\n",
    "plt.show()\n"
   ]
  },
  {
   "cell_type": "markdown",
   "metadata": {},
   "source": [
    "Explanation of the ML Model Code\n",
    "Data Preprocessing: The Timestamp column is transformed to a simple sequential number to make it easier to analyze time-based trends.\n",
    "Train-Test Split: The dataset is divided into training and testing sets to evaluate model performance.\n",
    "Model Training: Two linear regression models are trained, one for temperature prediction and another for humidity.\n",
    "Visualization: The actual vs. predicted values for both temperature and humidity are plotted to visually assess the model's performance.\n",
    "\n",
    "Part 3: Deployment and Real-Time Prediction\n",
    "Once the model is trained, you could deploy it on your Raspberry Pi to make real-time predictions. For simplicity, you could load the trained model and run predictions on incoming data from the sensor"
   ]
  }
 ],
 "metadata": {
  "language_info": {
   "name": "python"
  }
 },
 "nbformat": 4,
 "nbformat_minor": 2
}
